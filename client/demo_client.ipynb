{
 "cells": [
  {
   "cell_type": "code",
   "execution_count": 30,
   "metadata": {},
   "outputs": [],
   "source": [
    "from client import request_POST, request_GET    "
   ]
  },
  {
   "cell_type": "markdown",
   "metadata": {},
   "source": [
    "## DEMO AWS-web-server, Spacy model"
   ]
  },
  {
   "cell_type": "code",
   "execution_count": 68,
   "metadata": {},
   "outputs": [],
   "source": [
    "message='The Portland–Milwaukie Light Rail Project was the second and '+\\\n",
    "'final phase of the South Corridor Project that in its first '+\\\n",
    "'phase expanded light rail services to Interstate 205 and '+\\\n",
    "'the Portland Transit Mall. The extension, which followed years '+\\\n",
    "'of failed light rail plans for Clackamas County, began '+\\\n",
    "'construction work in mid-2011. As part of the project, '+\\\n",
    "'TriMet built Tilikum Crossing (pictured), billed '+\\\n",
    "'as \"the largest car-free bridge in the United States\", over the Willamette River.' "
   ]
  },
  {
   "cell_type": "code",
   "execution_count": 69,
   "metadata": {},
   "outputs": [],
   "source": [
    "URL = \"http://3.68.101.138:8080/\"#this instance is runnnig"
   ]
  },
  {
   "cell_type": "markdown",
   "metadata": {},
   "source": [
    "#### Check that server is working"
   ]
  },
  {
   "cell_type": "code",
   "execution_count": 70,
   "metadata": {},
   "outputs": [
    {
     "name": "stdout",
     "output_type": "stream",
     "text": [
      "Hi, server is running\n"
     ]
    }
   ],
   "source": [
    "request_GET(URL = URL)"
   ]
  },
  {
   "cell_type": "code",
   "execution_count": 71,
   "metadata": {
    "scrolled": true
   },
   "outputs": [
    {
     "name": "stdout",
     "output_type": "stream",
     "text": [
      "'The Portland\\\\u2013Milwaukie Light Rail Project', 'ORG'\n",
      " 'the South Corridor Project', 'ORG'\n"
     ]
    }
   ],
   "source": [
    "request_POST(message, URL = URL)"
   ]
  },
  {
   "cell_type": "code",
   "execution_count": 72,
   "metadata": {},
   "outputs": [],
   "source": [
    "short_message = 'Steve works for Shell'"
   ]
  },
  {
   "cell_type": "code",
   "execution_count": 73,
   "metadata": {},
   "outputs": [
    {
     "name": "stdout",
     "output_type": "stream",
     "text": [
      "'Shell', 'ORG'\n"
     ]
    }
   ],
   "source": [
    "request_POST(short_message, URL = URL)"
   ]
  },
  {
   "cell_type": "markdown",
   "metadata": {},
   "source": [
    "## DEMO, BERT model\n",
    "#### Unfortunately, I was unable to install BERT on free EC2 instance due to low memory:( "
   ]
  },
  {
   "cell_type": "code",
   "execution_count": 23,
   "metadata": {},
   "outputs": [],
   "source": [
    "message='The Portland–Milwaukie Light Rail Project was the second and '+\\\n",
    "'final phase of the South Corridor Project that in its first '+\\\n",
    "'phase expanded light rail services to Interstate 205 and '+\\\n",
    "'the Portland Transit Mall. The extension, which followed years '+\\\n",
    "'of failed light rail plans for Clackamas County, began '+\\\n",
    "'construction work in mid-2011. As part of the project, '+\\\n",
    "'TriMet built Tilikum Crossing (pictured), billed '+\\\n",
    "'as \"the largest car-free bridge in the United States\", over the Willamette River.' "
   ]
  },
  {
   "cell_type": "code",
   "execution_count": 24,
   "metadata": {},
   "outputs": [],
   "source": [
    "URL = \"http://localhost:80/\""
   ]
  },
  {
   "cell_type": "code",
   "execution_count": 25,
   "metadata": {},
   "outputs": [
    {
     "name": "stdout",
     "output_type": "stream",
     "text": [
      "Hi, server is running\n"
     ]
    }
   ],
   "source": [
    "request_GET(URL = URL)"
   ]
  },
  {
   "cell_type": "code",
   "execution_count": 26,
   "metadata": {
    "scrolled": false
   },
   "outputs": [
    {
     "name": "stdout",
     "output_type": "stream",
     "text": [
      "'TriMet', 'B-ORG', 0.9988927245140076\n"
     ]
    }
   ],
   "source": [
    "request_POST(message, URL = \"http://localhost:80/\")"
   ]
  },
  {
   "cell_type": "code",
   "execution_count": 27,
   "metadata": {},
   "outputs": [],
   "source": [
    "short_message = 'Steve works in EU for British Petroleum'"
   ]
  },
  {
   "cell_type": "code",
   "execution_count": 28,
   "metadata": {},
   "outputs": [
    {
     "name": "stdout",
     "output_type": "stream",
     "text": [
      "'EU', 'B-ORG', 0.9994223117828369\n",
      " 'British', 'B-ORG', 0.9994757771492004\n",
      " 'Petroleum', 'I-ORG', 0.9987993240356445\n"
     ]
    }
   ],
   "source": [
    "request_POST(short_message, URL = \"http://localhost:80/\")"
   ]
  },
  {
   "cell_type": "code",
   "execution_count": null,
   "metadata": {},
   "outputs": [],
   "source": []
  }
 ],
 "metadata": {
  "kernelspec": {
   "display_name": "Python 3",
   "language": "python",
   "name": "python3"
  },
  "language_info": {
   "codemirror_mode": {
    "name": "ipython",
    "version": 3
   },
   "file_extension": ".py",
   "mimetype": "text/x-python",
   "name": "python",
   "nbconvert_exporter": "python",
   "pygments_lexer": "ipython3",
   "version": "3.7.1"
  }
 },
 "nbformat": 4,
 "nbformat_minor": 2
}
