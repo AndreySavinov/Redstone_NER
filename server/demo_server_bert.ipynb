{
 "cells": [
  {
   "cell_type": "code",
   "execution_count": 3,
   "metadata": {},
   "outputs": [],
   "source": [
    "from server_bert import run"
   ]
  },
  {
   "cell_type": "code",
   "execution_count": 4,
   "metadata": {
    "scrolled": true
   },
   "outputs": [
    {
     "name": "stderr",
     "output_type": "stream",
     "text": [
      "127.0.0.1 - - [11/Jul/2021 18:43:56] \"GET / HTTP/1.1\" 200 -\n",
      "127.0.0.1 - - [11/Jul/2021 18:44:20] \"GET / HTTP/1.1\" 200 -\n",
      "127.0.0.1 - - [11/Jul/2021 18:44:23] \"POST / HTTP/1.1\" 200 -\n",
      "127.0.0.1 - - [11/Jul/2021 18:44:29] \"POST / HTTP/1.1\" 200 -\n"
     ]
    }
   ],
   "source": [
    "run()"
   ]
  },
  {
   "cell_type": "code",
   "execution_count": null,
   "metadata": {},
   "outputs": [],
   "source": []
  }
 ],
 "metadata": {
  "kernelspec": {
   "display_name": "Python 3",
   "language": "python",
   "name": "python3"
  },
  "language_info": {
   "codemirror_mode": {
    "name": "ipython",
    "version": 3
   },
   "file_extension": ".py",
   "mimetype": "text/x-python",
   "name": "python",
   "nbconvert_exporter": "python",
   "pygments_lexer": "ipython3",
   "version": "3.7.1"
  }
 },
 "nbformat": 4,
 "nbformat_minor": 2
}
